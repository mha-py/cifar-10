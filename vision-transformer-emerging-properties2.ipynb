{
 "cells": [
  {
   "cell_type": "code",
   "execution_count": null,
   "id": "29090ebf-dc47-482e-ba97-378f9f5f6806",
   "metadata": {},
   "outputs": [],
   "source": [
    "# Emerging Properties in Self-Supervised Vision Transformers: Spezielle self-supervised Methode,\n",
    "# die beim Vision-Transformer zu emergenten Effekten nämlich Segmentations-Attentionmaps führen soll\n",
    "#\n",
    "# Version 2: Teacher hat global view, es gibt mehrere heads, sinkhorn statt centering\n",
    "\n",
    "import numpy as np\n",
    "import matplotlib.pyplot as plt\n",
    "from tqdm.notebook import tqdm, trange\n",
    "import pickle as pkl\n",
    "\n",
    "%load_ext autoreload\n",
    "%autoreload 2\n",
    "from utils import *\n",
    "from layers import *\n",
    "from transformer import *\n",
    "from cifar10 import *"
   ]
  },
  {
   "cell_type": "code",
   "execution_count": null,
   "id": "b869e4f1-99fb-440b-8e99-976dd45adcb0",
   "metadata": {},
   "outputs": [],
   "source": []
  },
  {
   "cell_type": "code",
   "execution_count": null,
   "id": "5376c770-ca09-4de7-8156-06cbe74e3d83",
   "metadata": {},
   "outputs": [],
   "source": [
    "showimg(resize(getimg(1)))"
   ]
  },
  {
   "cell_type": "code",
   "execution_count": null,
   "id": "37692a22-c1be-4104-b7e9-37694f21cb14",
   "metadata": {},
   "outputs": [],
   "source": []
  },
  {
   "cell_type": "code",
   "execution_count": null,
   "id": "ea573433-7e3c-4d18-9539-b18d3318696e",
   "metadata": {},
   "outputs": [],
   "source": [
    "i = 30\n",
    "showimg(getimg(i))\n",
    "getlabel(i)\n",
    "\n",
    "# 0: Flugzeug\n",
    "# 1: Auto\n",
    "# 2: Vogel\n",
    "# 3: Katze\n",
    "# 4: Reh\n",
    "# 5  Hund\n",
    "# 6: Kröte\n",
    "# 7: Pferd\n",
    "# 8: Boot\n",
    "# 9: Truck"
   ]
  },
  {
   "cell_type": "code",
   "execution_count": null,
   "id": "2b6a5c1a-fce6-4028-b18c-8d27ae435f4e",
   "metadata": {},
   "outputs": [],
   "source": [
    "showimg(getunsupervised(1))"
   ]
  },
  {
   "cell_type": "code",
   "execution_count": null,
   "id": "de7a86ea-61cf-4bc3-b23f-d2779a338543",
   "metadata": {},
   "outputs": [],
   "source": [
    "\n",
    "\n",
    "def batchgen(bsize=32, start=500):\n",
    "    ep = 0\n",
    "    while True:\n",
    "        inds = np.random.permutation(range(start, N//5)) ##################################\n",
    "        minibatches = [ inds[k*bsize:(k+1)*bsize] for k in range(len(inds)//bsize) ]\n",
    "        for mb in minibatches:\n",
    "            xs = []\n",
    "            ys = []\n",
    "            for i in mb:\n",
    "                xs.append(getimg(i))\n",
    "                ys.append(getlabel(i))\n",
    "            yield np.array(xs), np.array(ys)\n",
    "        print(f'========== EPOCH {ep} COMPLETED ==========')\n",
    "        ep += 1\n",
    "\n",
    "\n",
    "def ubatchgen(bsize=32, start=0):\n",
    "    ep = 0\n",
    "    while True:\n",
    "        inds = np.random.permutation(range(start, N_UNSUPERVISED))\n",
    "        minibatches = [ inds[k*bsize:(k+1)*bsize] for k in range(len(inds)//bsize) ]\n",
    "        for mb in minibatches:\n",
    "            xs1 = np.zeros((bsize, 24, 24, 3))\n",
    "            xs2 = np.zeros((bsize, 24, 24, 3))\n",
    "            for i, j in enumerate(mb):\n",
    "                x1 = getunsupervised(j).reshape((32, 32, -1))\n",
    "                x2 = getunsupervised(j).reshape((32, 32, -1))\n",
    "                xs1[i] = randomcrop(x1, s=24)\n",
    "                xs2[i] = resize(x2, s=24)\n",
    "            yield xs1, xs2\n",
    "        print(f'========== UNSUPERVISED EPOCH {ep} COMPLETED ==========')\n",
    "        ep += 1"
   ]
  },
  {
   "cell_type": "code",
   "execution_count": null,
   "id": "06fd6320-439b-491f-8b3b-341038840ab4",
   "metadata": {},
   "outputs": [],
   "source": [
    "bg = batchgen()\n",
    "xs, ys = next(bg)\n",
    "xs.shape\n",
    "\n",
    "ubg = ubatchgen()\n",
    "xs1, xs2 = next(ubg)\n",
    "xs1.shape\n",
    "showimg(xs2[0])"
   ]
  },
  {
   "cell_type": "code",
   "execution_count": null,
   "id": "385e734c-8eac-4aae-96ab-3b94bd216d26",
   "metadata": {},
   "outputs": [],
   "source": [
    "from layers import *\n",
    "\n",
    "\n",
    "class Net(nn.Module):\n",
    "    \n",
    "    def __init__(self, n, nh, M):\n",
    "        super().__init__()\n",
    "        self.dense1 = nn.Linear(3, n)\n",
    "        self.posenc2d = PositionalEncoding2d(n)\n",
    "        self.ln1 = LayerNorm(n)\n",
    "        self.seed = Seed(n, M)\n",
    "        self.isab1 = ISAB2(n, n, nh)\n",
    "        self.isab2 = ISAB2(n, n, nh)\n",
    "        self.isab3 = ISAB2(n, n, nh)\n",
    "        self.ln2 = LayerNorm(n)\n",
    "        self.dense2 = nn.Linear(n, 10)\n",
    "        self.heads = nn.ModuleList([ nn.Linear(n, 100) for _ in range(10) ])\n",
    "        self.cuda()\n",
    "    \n",
    "    def forward(self, x):\n",
    "        x = self.dense1(x)\n",
    "        x = x / np.sqrt(x.shape[2])\n",
    "        x = self.posenc2d(x)\n",
    "        x = rearrange(x, 'b h w c -> b (h w) c')\n",
    "        x = self.ln1(x)\n",
    "        y = self.seed(x)\n",
    "        x, y = self.isab1(x, y)\n",
    "        x, y = self.isab2(x, y)\n",
    "        x, y = self.isab3(x, y)\n",
    "        y = self.ln2(y)\n",
    "        y = y[:,0,:]\n",
    "        self.prelast = y\n",
    "        ys = [ h(y) for h in self.heads ]\n",
    "        return ys\n",
    "        "
   ]
  },
  {
   "cell_type": "code",
   "execution_count": null,
   "id": "2aa3f364-7ae0-4f01-be47-46897909a9ba",
   "metadata": {
    "scrolled": true
   },
   "outputs": [],
   "source": [
    "net = Net(128, 4, 10)\n",
    "from torch_optimizer import Lookahead, Yogi\n",
    "net.optim = Lookahead(Yogi(net.parameters(), lr=3e-3, weight_decay=0.0))\n",
    "net.iters = 0\n",
    "net.losses1 = []\n",
    "net.losses2 = []\n",
    "net.losses = []\n",
    "net.vlosses = []\n",
    "net.vaccs = []\n",
    "bg = batchgen()\n",
    "\n",
    "#net.load_state_dict(torch.load('vt_emerging_properties2_211223.dat'))\n",
    "\n",
    "teacher = Net(128, 4, 10)\n",
    "teacher.load_state_dict(net.state_dict());"
   ]
  },
  {
   "cell_type": "code",
   "execution_count": null,
   "id": "722cb46c-977f-44fe-8982-aec5f992f967",
   "metadata": {},
   "outputs": [],
   "source": [
    "    \n",
    "def ssloss():\n",
    "    net.train()\n",
    "    x1, x2 = next(ubg)\n",
    "    x1, x2 = np2t(x1, x2)\n",
    "    ss = net(x1)\n",
    "    tau = 1\n",
    "    ss = [ F.softmax(s / tau, dim=1) for s in ss ]\n",
    "    with torch.no_grad():\n",
    "        ts = teacher(x2)\n",
    "        Qs = [ sinkhorn(t) for t in ts ]\n",
    "    loss1 = sum([ torch.mean(-torch.log(s+1e-12) * Q) for s, Q in zip(ss, Qs)])\n",
    "    loss2 = keleoRegularizer(net.prelast)\n",
    "    return loss1, loss2\n",
    "    \n",
    "\n",
    "def sinkhorn(t, eps=0.1):\n",
    "    Q = torch.exp(t/eps)\n",
    "    Q = torch.nan_to_num(Q)\n",
    "    for i in range(3):\n",
    "        Q = Q / (Q.sum(0, keepdim=True) + 1e-12)\n",
    "        Q = Q / (Q.sum(1, keepdim=True) + 1e-12)\n",
    "    return Q\n",
    "\n",
    "def keleoRegularizer(y):\n",
    "    y = y / (torch.sqrt(torch.sum(y**2, dim=1, keepdim=True)) + 1e-12)\n",
    "    dsq = torch.sum((y[:,None,:] - y[None,:,:])**2, dim=-1)\n",
    "    dsq = dsq + torch.eye(len(y)).to(y.device) * 10000 # deselect diagonal\n",
    "    dmin = torch.min(dsq, dim=1)[0]\n",
    "    return torch.mean(-torch.log(dmin+1e-12)) / 100\n",
    "\n",
    "ssloss()"
   ]
  },
  {
   "cell_type": "code",
   "execution_count": null,
   "id": "2aff01a7-6590-4fa0-931c-e429a640de47",
   "metadata": {
    "scrolled": true
   },
   "outputs": [],
   "source": [
    "losses1 = []\n",
    "losses2 = []\n",
    "ubg = ubatchgen()\n",
    "\n",
    "for k in trange(999999):\n",
    "    net.train()\n",
    "    l1, l2 = ssloss()\n",
    "    (l1+l2).backward()\n",
    "    losses1.append(l1.item())\n",
    "    losses2.append(l2.item())\n",
    "    net.optim.step()\n",
    "    net.zero_grad()\n",
    "    update_mt(teacher, net, tau=0.9) ## 99\n",
    "\n",
    "    if len(losses1) == 50:\n",
    "        net.losses1.append((net.iters, np.mean(losses1)))\n",
    "        net.losses2.append((net.iters, np.mean(losses2)))\n",
    "        losses1 = []\n",
    "        losses2 = []\n",
    "\n",
    "    if k % 200 == 0:\n",
    "        plt.plot(*zip(*net.losses1))\n",
    "        plt.plot(*zip(*net.losses2))\n",
    "        plt.grid()\n",
    "        plt.show()\n",
    "\n",
    "        i = np.random.randint(1000)\n",
    "        x = resize(getimg(i), s=24)\n",
    "        xs = np2t([x])\n",
    "        yp = net(xs)\n",
    "        #beta = t2np(net.isab3.mab1.mha.beta)[0,0,0,:].reshape(24,24)\n",
    "        #plt.imshow(0*beta, alpha=.95-beta/beta.max()*.95, extent=(0, 1, 0, 1), cmap='gray')\n",
    "        beta = t2np(net.isab3.mab1.mha.beta)[0,0,:3,:].reshape(3,24,24).transpose(1, 2, 0)\n",
    "        beta /= beta.max()\n",
    "        showimg(beta)\n",
    "        plt.show()\n",
    "        showimg(x)\n",
    "        plt.show()\n",
    "        plt.plot(t2np(F.softmax(yp[0][0])))\n",
    "        plt.show()\n",
    "# nach 5000 iterationen um 10% des plateuas gesunken (0.23 plateu -> 0.21)\n",
    "    net.iters += 1"
   ]
  },
  {
   "cell_type": "code",
   "execution_count": null,
   "id": "d76356a7-d438-4989-aaed-03dbf788910c",
   "metadata": {},
   "outputs": [],
   "source": []
  },
  {
   "cell_type": "code",
   "execution_count": null,
   "id": "c8134f47-26d6-4371-bf74-d5c0dcd54c84",
   "metadata": {},
   "outputs": [],
   "source": [
    "torch.save(net.state_dict(), 'vt_emerging_properties2_221223.dat')"
   ]
  },
  {
   "cell_type": "code",
   "execution_count": null,
   "id": "c149b9d9-d726-4ebe-b29a-93e0516e9a72",
   "metadata": {
    "scrolled": true
   },
   "outputs": [],
   "source": [
    "i = 1\n",
    "net.eval()\n",
    "x = getimg(i)\n",
    "xs = np2t([x])\n",
    "yp = net(xs)\n",
    "\n",
    "showimg(x)\n",
    "plt.show()\n",
    "\n",
    "for i in range(10):\n",
    "    for j in range(4):\n",
    "        beta = t2np(net.isab3.mab1.mha.beta)[0,j,i,:].reshape(32,32)\n",
    "        #showimg(x)\n",
    "        plt.imshow(0*beta, alpha=.95-beta/beta.max()*.95, extent=(0, 1, 0, 1), cmap='gray')\n",
    "        plt.show()"
   ]
  },
  {
   "cell_type": "code",
   "execution_count": null,
   "id": "0fd436ea-0114-4d0f-a540-920036dcc033",
   "metadata": {},
   "outputs": [],
   "source": [
    "beta"
   ]
  },
  {
   "cell_type": "code",
   "execution_count": null,
   "id": "89ffafce-5589-4f8a-8e64-98410ff8dae4",
   "metadata": {},
   "outputs": [],
   "source": [
    "\n",
    "net.load_state_dict(torch.load('vt_emerging_properties_111223.dat'))\n",
    "\n",
    "img = plt.imread('examples/dog.jpg')[:,:,:3]\n",
    "img_big = plt.imread('examples/dog hr.jpg')\n",
    "xs = np2t([img])\n",
    "net(xs)\n",
    "beta = t2np(net.isab3.mab1.mha.beta)[0,0:3,0,:].reshape(3,32,32).transpose(1, 2, 0)\n",
    "beta /= beta.max()\n",
    "showimg(img_big)\n",
    "plt.show()\n",
    "showimg(beta)"
   ]
  },
  {
   "cell_type": "code",
   "execution_count": null,
   "id": "02953584-6c13-4807-acfc-8678f48b3935",
   "metadata": {},
   "outputs": [],
   "source": []
  },
  {
   "cell_type": "code",
   "execution_count": null,
   "id": "3d472366-9abd-45fc-9b12-59547ac90555",
   "metadata": {},
   "outputs": [],
   "source": [
    "def valloss():\n",
    "    net.eval()\n",
    "    xs = np.array([getimg(i) for i in range(200)])\n",
    "    yt = np.array([getlabel(i) for i in range(200)])\n",
    "    xs, yt = np2t(xs, yt)\n",
    "    yt = yt.long()\n",
    "    net(xs)\n",
    "    yp = net.dense2(net.prelast)\n",
    "    loss = F.nll_loss(F.log_softmax(yp, dim=1), yt).item()\n",
    "    yp, yt = t2np(yp, yt)\n",
    "    yp = yp.argmax(-1)\n",
    "    acc = np.mean(yp==yt)\n",
    "    return loss, acc\n",
    "    \n",
    "def loss():\n",
    "    net.train()\n",
    "    xs, yt = next(bg)\n",
    "    xs, yt = np2t(xs, yt)\n",
    "    yt = yt.long()\n",
    "    net(xs)\n",
    "    yp = net.dense2(net.prelast)\n",
    "    return F.nll_loss(F.log_softmax(yp, dim=1), yt)"
   ]
  },
  {
   "cell_type": "code",
   "execution_count": null,
   "id": "615824b5-318a-425e-a37c-c1a292424054",
   "metadata": {},
   "outputs": [],
   "source": [
    "net.optim = Lookahead(Yogi(net.parameters(), lr=3e-3, weight_decay=0.0))"
   ]
  },
  {
   "cell_type": "code",
   "execution_count": null,
   "id": "039fd026-688e-4853-9eaa-d04ea7bbc4f8",
   "metadata": {},
   "outputs": [],
   "source": [
    "net.load_state_dict(torch.load('vt_emerging_properties2_221223.dat'))"
   ]
  },
  {
   "cell_type": "code",
   "execution_count": null,
   "id": "6e540943-920f-4f54-ac61-128d76bc18e2",
   "metadata": {},
   "outputs": [],
   "source": [
    "losses = []\n",
    "#slosses = []\n",
    "\n",
    "for k in trange(999999):\n",
    "    net.train()\n",
    "    l = loss()\n",
    "    #sl = sloss()\n",
    "    l.backward()\n",
    "    losses.append(l.item())\n",
    "    #slosses.append(sl.item())\n",
    "    net.optim.step()\n",
    "    net.zero_grad()\n",
    "\n",
    "    if len(losses) == 50:\n",
    "        vl, vacc = valloss()\n",
    "        net.vlosses.append((net.iters, vl))\n",
    "        net.vaccs.append((net.iters, vacc))\n",
    "        net.losses.append((net.iters, np.mean(losses)))\n",
    "        #net.slosses.append((net.iters, np.mean(slosses)))\n",
    "        losses = []\n",
    "        #slosses = []\n",
    "\n",
    "    if k % 50 == 0:\n",
    "        plt.plot(*zip(*net.losses))\n",
    "        plt.plot(*zip(*net.vlosses))\n",
    "        plt.plot(*zip(*net.vaccs))\n",
    "        #plt.plot(*zip(*net.slosses))\n",
    "        plt.grid()\n",
    "        plt.show()\n",
    "\n",
    "    net.iters += 1"
   ]
  },
  {
   "cell_type": "code",
   "execution_count": null,
   "id": "9b8185bd-c089-4edc-9ece-a145eced6fbc",
   "metadata": {},
   "outputs": [],
   "source": [
    "np.array(net.vlosses)[:,1].min(), np.array(net.vaccs)[:,1].max()"
   ]
  },
  {
   "cell_type": "code",
   "execution_count": null,
   "id": "5a7dc378-269f-44d0-8b2a-6d1be3daa987",
   "metadata": {},
   "outputs": [],
   "source": [
    "N//5"
   ]
  },
  {
   "cell_type": "code",
   "execution_count": null,
   "id": "3baed864-2676-4633-8aff-b00cbef31fa9",
   "metadata": {},
   "outputs": [],
   "source": []
  },
  {
   "cell_type": "code",
   "execution_count": null,
   "id": "2fd4dc7f-1150-48e0-9629-af8f70958aec",
   "metadata": {},
   "outputs": [],
   "source": [
    "net.load_state_dict(torch.load('vt_emerging_properties_111223.dat'))"
   ]
  },
  {
   "cell_type": "code",
   "execution_count": null,
   "id": "e37998d3-d8bc-4c16-8a43-f7e9e17740e6",
   "metadata": {},
   "outputs": [],
   "source": [
    "from sklearn.manifold import TSNE\n",
    "\n",
    "xs = np.array([getimg(i) for i in range(200)])\n",
    "yt = np.array([getlabel(i) for i in range(200)])\n",
    "xs = np2t(xs)\n",
    "yp = net(xs)\n",
    "\n",
    "X = t2np(net.prelast)\n",
    "X_embedded = TSNE(n_components=2).fit_transform(X)"
   ]
  },
  {
   "cell_type": "code",
   "execution_count": null,
   "id": "018973ce-5b81-4a61-83bd-2712b7cfa787",
   "metadata": {},
   "outputs": [],
   "source": [
    "for i in range(10):\n",
    "    mask = yt==i\n",
    "    plt.scatter(X_embedded[mask][:,0], X_embedded[mask][:,1], s=4)"
   ]
  }
 ],
 "metadata": {
  "kernelspec": {
   "display_name": "Python 3 (ipykernel)",
   "language": "python",
   "name": "python3"
  },
  "language_info": {
   "codemirror_mode": {
    "name": "ipython",
    "version": 3
   },
   "file_extension": ".py",
   "mimetype": "text/x-python",
   "name": "python",
   "nbconvert_exporter": "python",
   "pygments_lexer": "ipython3",
   "version": "3.11.5"
  }
 },
 "nbformat": 4,
 "nbformat_minor": 5
}
