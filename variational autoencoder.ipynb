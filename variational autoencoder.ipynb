{
 "cells": [
  {
   "cell_type": "code",
   "execution_count": null,
   "id": "3b76cc75-9df5-4c23-8f52-e641e5d55a03",
   "metadata": {},
   "outputs": [],
   "source": [
    "\n",
    "import numpy as np\n",
    "import matplotlib.pyplot as plt\n",
    "from tqdm.notebook import tqdm, trange\n",
    "import pickle as pkl\n",
    "\n",
    "%load_ext autoreload\n",
    "%autoreload 2\n",
    "from utils import *\n",
    "from layers import *\n",
    "from transformer import *\n",
    "from cifar10 import *"
   ]
  },
  {
   "cell_type": "code",
   "execution_count": null,
   "id": "1bbb3689-0b5e-48e2-b985-d13b4154e279",
   "metadata": {},
   "outputs": [],
   "source": [
    "# 0: Flugzeug\n",
    "# 1: Auto\n",
    "# 2: Vogel\n",
    "# 3: Katze\n",
    "# 4: Reh\n",
    "# 5: Hund\n",
    "# 6: Kröte\n",
    "# 7: Pferd\n",
    "# 8: Boot\n",
    "# 9: Truck\n",
    "\n",
    "labels = [\n",
    "    'Plane',\n",
    "    'Car',\n",
    "    'Bird',\n",
    "    'Cat',\n",
    "    'Dog',\n",
    "    'Deer',\n",
    "    'Frog',\n",
    "    'Horse',\n",
    "    'Boat',\n",
    "    'Truck'\n",
    "]"
   ]
  },
  {
   "cell_type": "code",
   "execution_count": null,
   "id": "d0aa9848-9a4e-4736-92ea-09d8cad68950",
   "metadata": {},
   "outputs": [],
   "source": [
    "showimg(getimg(1))"
   ]
  },
  {
   "cell_type": "code",
   "execution_count": null,
   "id": "7aa1b39e-c789-4a86-b3ea-016d8f6a6efb",
   "metadata": {},
   "outputs": [],
   "source": [
    "N"
   ]
  },
  {
   "cell_type": "code",
   "execution_count": null,
   "id": "ce1f6afd-4d44-4556-a242-2024cbfc9403",
   "metadata": {},
   "outputs": [],
   "source": [
    "\n",
    "def batchgen(bsize=32, start=0):\n",
    "    ep = 0\n",
    "    while True:\n",
    "        inds = np.random.permutation(range(start, N//5))\n",
    "        minibatches = [ inds[k*bsize:(k+1)*bsize] for k in range(len(inds)//bsize) ]\n",
    "        for mb in minibatches:\n",
    "            xs = np.zeros((bsize, 3, 32, 32))\n",
    "            zs = np.zeros((bsize), dtype=int)\n",
    "            for i, j in enumerate(mb):\n",
    "                x = getimg(j).reshape((32, 32, -1))\n",
    "                xs[i] = x.transpose(2, 0, 1)\n",
    "                zs[i] = getlabel(j)\n",
    "            yield xs, zs\n",
    "        print(f'========== EPOCH {ep} COMPLETED ==========')\n",
    "        ep += 1"
   ]
  },
  {
   "cell_type": "code",
   "execution_count": null,
   "id": "70056b78-93b9-4f19-a63e-20189165d0bc",
   "metadata": {},
   "outputs": [],
   "source": [
    "bg = batchgen()\n",
    "xs, zs = next(bg)\n",
    "xs.shape\n",
    "showimg(xs[0])"
   ]
  },
  {
   "cell_type": "code",
   "execution_count": null,
   "id": "7a83a8f9-ec21-45cd-8cfd-5539e8767840",
   "metadata": {},
   "outputs": [],
   "source": [
    "\n",
    "class Encoder(nn.Module):\n",
    "    def __init__(self, n, nlatent):\n",
    "        super().__init__()\n",
    "        self.conv1 = nn.Conv2d(13, n, 4, 2, padding=1, bias=False)\n",
    "        self.bn1 = nn.BatchNorm2d(n)\n",
    "        self.conv2 = nn.Conv2d(n, 2*n, 4, 2, padding=1, bias=False)\n",
    "        self.bn2 = nn.BatchNorm2d(2*n)\n",
    "        self.conv3 = nn.Conv2d(2*n, 4*n, 4, 2, padding=1, bias=False)\n",
    "        self.bn3 = nn.BatchNorm2d(4*n)\n",
    "        self.conv4 = nn.Conv2d(4*n, 8*n, 4, 2, padding=1, bias=False)\n",
    "        self.bn4 = nn.BatchNorm2d(8*n)\n",
    "        self.conv5 = nn.Conv2d(8*n, 4*16*n, 2, 1, padding=0, bias=True)\n",
    "        self.bn5 = nn.BatchNorm2d(4*16*n)\n",
    "        self.conv6 = nn.Conv2d(4*16*n, 2*nlatent, 1, 1, padding=0, bias=True)\n",
    "        self.cuda()\n",
    "    def forward(self, x, z=None, d=4):\n",
    "        if z is None:\n",
    "            z = torch.zeros(len(x), 10).cuda()\n",
    "        z = z[:,:,None,None].repeat(1, 1, 32, 32)\n",
    "        x = x-0.5\n",
    "        x = torch.cat([x, z], 1)           # Output\n",
    "        x = relu(self.bn1(self.conv1(x)))  # 64x16x16\n",
    "        if d==1: return x\n",
    "        x = relu(self.bn2(self.conv2(x)))  # 128x8x8\n",
    "        if d==2: return x\n",
    "        x = relu(self.bn3(self.conv3(x)))  # 256x4x4\n",
    "        if d==3: return x\n",
    "        x = relu(self.bn4(self.conv4(x)))  # 512x2x2\n",
    "        if d==4: return x\n",
    "        x = relu(self.bn5(self.conv5(x)))\n",
    "        if d==5: return x\n",
    "        x = self.conv6(x)                  # 20x1x1\n",
    "        return x"
   ]
  },
  {
   "cell_type": "code",
   "execution_count": null,
   "id": "42a15199-830d-416e-aeaf-63a121bd6781",
   "metadata": {},
   "outputs": [],
   "source": [
    "\n",
    "class Decoder(nn.Module):\n",
    "    def __init__(self, n, nlatent):\n",
    "        super().__init__()\n",
    "        self.conv0 = nn.Conv2d(nlatent+10, 4*16*n, 1, 1, bias=False)\n",
    "        self.bn0 = nn.BatchNorm2d(4*16*n)\n",
    "        self.conv01 = nn.ConvTranspose2d(4*16*n, 8*n, 2, 1, bias=False)\n",
    "        self.bn01 = nn.BatchNorm2d(8*n)\n",
    "        self.conv1 = nn.ConvTranspose2d(8*n, 4*n, 4, 2, padding=1, bias=False)\n",
    "        self.bn1 = nn.BatchNorm2d(4*n)\n",
    "        self.conv2 = nn.ConvTranspose2d(4*n, 2*n, 4, 2, padding=1, bias=False)\n",
    "        self.bn2 = nn.BatchNorm2d(2*n)\n",
    "        self.conv3 = nn.ConvTranspose2d(2*n, n, 4, 2, padding=1, bias=False)\n",
    "        self.bn3 = nn.BatchNorm2d(n)\n",
    "        self.conv4 = nn.ConvTranspose2d(n, 3, 4, 2, padding=1, bias=True)\n",
    "        self.cuda()\n",
    "    def forward(self, x, z=None, d=99999):\n",
    "        if z is None:\n",
    "            z = torch.zeros(len(x), 10).cuda()\n",
    "        if d>=6:\n",
    "            x = torch.cat((x, z[:,:,None,None]), 1)  # Input\n",
    "            x = relu(self.bn0(self.conv0(x)))        # 20x1x1\n",
    "        if d>=5:\n",
    "            x = relu(self.bn01(self.conv01(x))) \n",
    "        if d>=4:\n",
    "            x = relu(self.bn1(self.conv1(x)))\n",
    "        if d>=3:\n",
    "            x = relu(self.bn2(self.conv2(x))) \n",
    "        if d>=2:\n",
    "            x = relu(self.bn3(self.conv3(x)))\n",
    "        if d>=1:\n",
    "            x = F.sigmoid(self.conv4(x))\n",
    "        return x"
   ]
  },
  {
   "cell_type": "code",
   "execution_count": null,
   "id": "5c01d11e-8b11-452d-bb75-236ca50b8bd8",
   "metadata": {},
   "outputs": [],
   "source": [
    "class Net(nn.Module):\n",
    "    def __init__(self, n, nlatent):\n",
    "        super().__init__()\n",
    "        self.enc = Encoder(n, nlatent)\n",
    "        self.dec = Decoder(n, nlatent)\n",
    "        self.nlatent = nlatent\n",
    "    def forward(self, x, z=None, d=6, train=True):\n",
    "        x = self.enc(x, z, d)\n",
    "        if d >= 6:\n",
    "            mu = x[:,:self.nlatent]\n",
    "            logvar = x[:,self.nlatent:]\n",
    "            std = torch.exp(logvar/2)\n",
    "            eps = torch.randn_like(std) if train else 0\n",
    "        else:\n",
    "            mu, logvar = x, 0\n",
    "            std = 0\n",
    "            eps = 0\n",
    "        x = mu + eps*std\n",
    "        x = self.dec(x, z, d)\n",
    "        return x, mu, logvar"
   ]
  },
  {
   "cell_type": "code",
   "execution_count": null,
   "id": "669879e9-723d-4cd7-a693-6b14c4f28447",
   "metadata": {},
   "outputs": [],
   "source": [
    "from torchsummary import summary\n",
    "net = Net(64, 20)\n",
    "summary(net, (3, 32, 32))"
   ]
  },
  {
   "cell_type": "code",
   "execution_count": null,
   "id": "6b01432c-6764-4317-ae68-a284a2579aee",
   "metadata": {},
   "outputs": [],
   "source": []
  },
  {
   "cell_type": "code",
   "execution_count": null,
   "id": "7009a1b7-e203-4acd-a3b9-678e98dd86bd",
   "metadata": {},
   "outputs": [],
   "source": [
    "from torch_optimizer import Lookahead, Yogi\n",
    "net = Net(64, 20)\n",
    "net.optim = Lookahead(Yogi(net.parameters(), lr=3e-3, betas=(0.9, 0.99)))\n",
    "net.iters = 0\n",
    "net.losses1 = []\n",
    "net.losses2 = []\n",
    "net.vlosses = []\n",
    "bg = batchgen()"
   ]
  },
  {
   "cell_type": "code",
   "execution_count": null,
   "id": "89c1cacc-ec4a-4b88-9b54-6591f525b22b",
   "metadata": {},
   "outputs": [],
   "source": [
    "def onehot(zs):\n",
    "    ys = np.zeros((len(zs), 10))\n",
    "    for i in range(len(zs)):\n",
    "        ys[i, zs[i]] = 1.\n",
    "    return ys\n",
    "\n",
    "'''\n",
    "def valloss():\n",
    "    bsize = 200\n",
    "    xs = np.zeros((bsize, 3, 32, 32))\n",
    "    zs = np.zeros((bsize), dtype=int)\n",
    "    for i in range(bsize):\n",
    "        x = getimg(i).reshape((32, 32, -1))\n",
    "        xs[i] = x.transpose(2, 0, 1)\n",
    "        zs[i] = getlabel(i)\n",
    "    zs = onehot(zs)\n",
    "    xs, zs = np2t(xs, zs)\n",
    "    xs2, mu, logvar = net(xs, zs)\n",
    "    pixelloss = torch.mean((xs-xs2)**2) + torch.mean(torch.abs(xs-xs2))/10\n",
    "    klloss = 0.5 * torch.mean(-1 - logvar + mu**2/5 + torch.exp(logvar))\n",
    "    return pixelloss + klloss'''\n",
    "    \n",
    "def loss(d=9999):\n",
    "    xs, zs = next(bg)\n",
    "    zs = onehot(zs)\n",
    "    xs, zs = np2t(xs, zs)\n",
    "    xs2, mu, logvar = net(xs, zs, d=d, train=True)\n",
    "    pixelloss = torch.mean((xs-xs2)**2) + torch.mean(torch.abs(xs-xs2))/10\n",
    "    klloss = 0.5 * torch.mean(-1 - logvar + mu**2/5 + torch.exp(logvar)) if not isinstance(logvar, int) else torch.tensor(0)\n",
    "    return pixelloss, klloss/10\n",
    "\n",
    "valloss(), loss()"
   ]
  },
  {
   "cell_type": "code",
   "execution_count": null,
   "id": "5dbb8247-8d57-4fdd-a7a4-7faff7d177e0",
   "metadata": {},
   "outputs": [],
   "source": [
    "def showexample(i=1, d=9999):\n",
    "    bsize = 10\n",
    "    xs = np.zeros((bsize, 3, 32, 32))\n",
    "    zs = np.zeros((bsize), dtype=int)\n",
    "    for j in range(bsize):\n",
    "        x = getimg(j).reshape((32, 32, -1))\n",
    "        xs[j] = x.transpose(2, 0, 1)\n",
    "        zs[j] = getlabel(j)\n",
    "    zs = onehot(zs)\n",
    "    xs, zs = np2t(xs, zs)\n",
    "    xs2, mu, logvar = net(xs, zs, d=d, train=False)\n",
    "    \n",
    "    xs, xs2 = t2np(xs, xs2)\n",
    "    showimg(xs[i])\n",
    "    plt.show()\n",
    "    showimg(xs2[i])\n",
    "    plt.show()\n",
    "    \n",
    "showexample(4, d=6)"
   ]
  },
  {
   "cell_type": "code",
   "execution_count": null,
   "id": "0e4b6fd4-4188-4db4-b5c9-387954206788",
   "metadata": {},
   "outputs": [],
   "source": [
    "losses1 = []\n",
    "losses2 = []\n",
    "bg = batchgen()\n",
    "\n",
    "for k in trange(999999):\n",
    "    d = net.iters // 2000 + 1\n",
    "    d = 6 if net.iters%3==0 else 5\n",
    "    net.train()\n",
    "    l1, l2 = loss(d)\n",
    "    (l1+l2).backward()\n",
    "    losses1.append(l1.item())\n",
    "    losses2.append(l2.item())\n",
    "    net.optim.step()\n",
    "    net.zero_grad()\n",
    "\n",
    "    if len(losses1) == 50:\n",
    "        net.vlosses.append((net.iters, valloss().item()))\n",
    "        net.losses1.append((net.iters, np.mean(losses1)))\n",
    "        net.losses2.append((net.iters, np.mean(losses2)))\n",
    "        losses1 = []\n",
    "        losses2 = []\n",
    "        #slosses = []\n",
    "\n",
    "    if k % 500 == 0:\n",
    "        plt.plot(*zip(*net.losses1))\n",
    "        plt.plot(*zip(*net.losses2))\n",
    "        plt.plot(*zip(*net.vlosses))\n",
    "        plt.grid()\n",
    "        plt.show()\n",
    "        showexample(4, d)\n",
    "\n",
    "    net.iters += 1"
   ]
  },
  {
   "cell_type": "code",
   "execution_count": null,
   "id": "987c9b10-d877-473f-9025-3ff93d9a8dfb",
   "metadata": {},
   "outputs": [],
   "source": [
    "torch.save(net.state_dict(), 'vae141223.dat')"
   ]
  },
  {
   "cell_type": "code",
   "execution_count": null,
   "id": "38be4a61-e48c-4acf-b0f9-202877652767",
   "metadata": {},
   "outputs": [],
   "source": [
    "net.losses1"
   ]
  },
  {
   "cell_type": "code",
   "execution_count": null,
   "id": "8bdd2d88-8670-41a5-9c29-6947b9dc8bfd",
   "metadata": {},
   "outputs": [],
   "source": []
  },
  {
   "cell_type": "code",
   "execution_count": null,
   "id": "ea9d4cf9-841f-406e-8385-931d749d15b3",
   "metadata": {},
   "outputs": [],
   "source": [
    "showexample(1)"
   ]
  },
  {
   "cell_type": "code",
   "execution_count": null,
   "id": "0d49516f-d637-4464-a700-8f201d9d342c",
   "metadata": {},
   "outputs": [],
   "source": [
    "np.array(net.losses)[:,1]"
   ]
  },
  {
   "cell_type": "code",
   "execution_count": null,
   "id": "90f75b82-589a-49d5-a09f-3b77d46de59f",
   "metadata": {},
   "outputs": [],
   "source": [
    "plt.plot(np.convolve(np.array(net.losses)[:,1], [1, 1, 1, 1, 1, 1, 1, 1, 1]))\n",
    "plt.ylim([0.6, 0.7])"
   ]
  },
  {
   "cell_type": "code",
   "execution_count": null,
   "id": "1c7e0f4c-5085-4beb-914e-746c49fc89df",
   "metadata": {},
   "outputs": [],
   "source": []
  }
 ],
 "metadata": {
  "kernelspec": {
   "display_name": "Python 3 (ipykernel)",
   "language": "python",
   "name": "python3"
  },
  "language_info": {
   "codemirror_mode": {
    "name": "ipython",
    "version": 3
   },
   "file_extension": ".py",
   "mimetype": "text/x-python",
   "name": "python",
   "nbconvert_exporter": "python",
   "pygments_lexer": "ipython3",
   "version": "3.11.5"
  }
 },
 "nbformat": 4,
 "nbformat_minor": 5
}
